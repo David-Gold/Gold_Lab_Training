{
 "cells": [
  {
   "cell_type": "markdown",
   "metadata": {},
   "source": [
    "# Lesson 0: Configuring your computer"
   ]
  },
  {
   "cell_type": "markdown",
   "metadata": {},
   "source": [
    "# macOS users: Install XCode"
   ]
  },
  {
   "cell_type": "markdown",
   "metadata": {},
   "source": [
    "If you are using macOS, you should install XCode, if you haven't already. It's a large piece of software, taking up about 5GB on your hard drive, so make sure you have enough space. You can install it through the App Store.\n",
    "After installing it, you need to open the program. Be sure to do that, for example by clicking on the XCode icon in your Applications folder. Upon opening XCode, it may perform more installations."
   ]
  },
  {
   "cell_type": "markdown",
   "metadata": {},
   "source": [
    "# Finding your Terminal application"
   ]
  },
  {
   "cell_type": "markdown",
   "metadata": {},
   "source": [
    "The Terminal app is in the Utilities folder in Applications. To open it, either open your Applications folder, then open Utilities and double-click on Terminal, or press Command - spacebar to launch Spotlight and type \"Terminal,\" then double-click the search result.\n",
    "\n",
    "You will want easy access to Terminal in the future. Right-click the terminal icon on your dock and select \"Options > Keep in Dock\""
   ]
  },
  {
   "cell_type": "markdown",
   "metadata": {},
   "source": [
    "# Downloading and installing Homebrew"
   ]
  },
  {
   "cell_type": "markdown",
   "metadata": {},
   "source": [
    "[Homebrew](https://brew.sh) is a package manager. Install it by pasting the following in a macOS Terminal prompt."
   ]
  },
  {
   "cell_type": "code",
   "execution_count": null,
   "metadata": {},
   "outputs": [],
   "source": [
    "/usr/bin/ruby -e \"$(curl -fsSL https://raw.githubusercontent.com/Homebrew/install/master/install)\""
   ]
  },
  {
   "cell_type": "markdown",
   "metadata": {},
   "source": [
    "With Homebrew you can search for and install packages developed by other programmers. Homebrew is accessed in terminal using the following syntax: \"brew [verb] [options]\"\n",
    "\n",
    "Let's try to SEARCH for the program wget:"
   ]
  },
  {
   "cell_type": "code",
   "execution_count": null,
   "metadata": {},
   "outputs": [],
   "source": [
    "brew search wget"
   ]
  },
  {
   "cell_type": "markdown",
   "metadata": {},
   "source": [
    "You should get something like the following:"
   ]
  },
  {
   "cell_type": "code",
   "execution_count": null,
   "metadata": {},
   "outputs": [],
   "source": [
    "==> Formulae\n",
    "wget                                   wgetpaste"
   ]
  },
  {
   "cell_type": "markdown",
   "metadata": {},
   "source": [
    "Homebrew found two possilbe programs, \"wget\" and \"wgetpaste\". We want to INSTALL wget, and we can do that with the following command in terminal."
   ]
  },
  {
   "cell_type": "code",
   "execution_count": null,
   "metadata": {},
   "outputs": [],
   "source": [
    "brew install wget"
   ]
  },
  {
   "cell_type": "markdown",
   "metadata": {},
   "source": [
    "If you want to find out where wget exists on your computer, use the INFO command: "
   ]
  },
  {
   "cell_type": "code",
   "execution_count": null,
   "metadata": {},
   "outputs": [],
   "source": [
    "brew info wget "
   ]
  },
  {
   "cell_type": "markdown",
   "metadata": {},
   "source": [
    "You will get the following as part of the output:"
   ]
  },
  {
   "cell_type": "code",
   "execution_count": null,
   "metadata": {},
   "outputs": [],
   "source": [
    "wget: stable 1.20.3 (bottled), HEAD\n",
    "Internet file retriever\n",
    "https://www.gnu.org/software/wget/\n",
    "/usr/local/Cellar/wget/1.19.5 (50 files, 3.7MB) * # <-- Here's the path to your program!\n",
    "  Poured from bottle on 2018-09-13 at 20:07:35\n",
    "From: https://github.com/Homebrew/homebrew-core/blob/master/Formula/wget.rb"
   ]
  },
  {
   "cell_type": "markdown",
   "metadata": {},
   "source": [
    "# Downloading and installing Python3"
   ]
  },
  {
   "cell_type": "markdown",
   "metadata": {},
   "source": [
    "Mac OS X comes with Python 2.7 out of the box. The version of Python that ships with OS X is great for learning, but it’s not good for development. The version shipped with OS X may be out of date from the official current Python release, which is considered the stable production version\n",
    "\n",
    "Install Python 3 with Homebrew:"
   ]
  },
  {
   "cell_type": "code",
   "execution_count": null,
   "metadata": {},
   "outputs": [],
   "source": [
    "brew install python"
   ]
  },
  {
   "cell_type": "markdown",
   "metadata": {},
   "source": [
    "You can test whether Python 3 installed?"
   ]
  },
  {
   "cell_type": "markdown",
   "metadata": {},
   "source": [
    "You now have several options for Python interpreters"
   ]
  },
  {
   "cell_type": "code",
   "execution_count": null,
   "metadata": {},
   "outputs": [],
   "source": [
    "python"
   ]
  },
  {
   "cell_type": "markdown",
   "metadata": {},
   "source": [
    "will launch the Homebrew-installed Python 3 interpreter."
   ]
  },
  {
   "cell_type": "code",
   "execution_count": null,
   "metadata": {},
   "outputs": [],
   "source": [
    "python2"
   ]
  },
  {
   "cell_type": "markdown",
   "metadata": {},
   "source": [
    "will launch the Homebrew-installed Python 2 interpreter (if any)."
   ]
  },
  {
   "cell_type": "code",
   "execution_count": null,
   "metadata": {},
   "outputs": [],
   "source": [
    "python3"
   ]
  },
  {
   "cell_type": "markdown",
   "metadata": {},
   "source": [
    "will launch the Homebrew-installed Python 3 interpreter.\n",
    "\n",
    "We will discuss working in Python later in the course. For now if you open Python you can quit using the following commnad:"
   ]
  },
  {
   "cell_type": "code",
   "execution_count": null,
   "metadata": {},
   "outputs": [],
   "source": [
    "quit()"
   ]
  },
  {
   "cell_type": "markdown",
   "metadata": {},
   "source": [
    "If the Homebrew version of Python 2 is installed then pip2 will point to Python 2. If the Homebrew version of Python 3 is installed then pip will point to Python 3.\n",
    "The rest of the guide will assume that python references Python 3."
   ]
  },
  {
   "cell_type": "markdown",
   "metadata": {},
   "source": [
    "# Downloading a text editor"
   ]
  },
  {
   "cell_type": "markdown",
   "metadata": {},
   "source": [
    "A text editor is a type of computer program that edits plain text. This is distinct from a word processor (Such as Microsoft Word) which edits rich text. Plain text exclusively consists of character representation. Rich text may contain metadata, character formatting data (e.g. typeface, size, weight and style), paragraph formatting data (e.g. indentation, alignment, letter and word distribution, and space between lines or other paragraphs), and page specification data (e.g. size, margin and reading direction).\n",
    "\n",
    "You will need a text editor to develop code.\n",
    "\n",
    "Two common text editors are [BBEdit](http://www.barebones.com/products/bbedit/) and [Sublime Text](https://www.sublimetext.com)."
   ]
  },
  {
   "cell_type": "markdown",
   "metadata": {},
   "source": [
    "# Installing Git"
   ]
  },
  {
   "cell_type": "markdown",
   "metadata": {},
   "source": [
    "There are several ways to install Git on a Mac. It should have been included when you installed the Xcode Command Line Tools. To check, paste the following prompt into Terminal:"
   ]
  },
  {
   "cell_type": "code",
   "execution_count": null,
   "metadata": {},
   "outputs": [],
   "source": [
    "git --version"
   ]
  },
  {
   "cell_type": "markdown",
   "metadata": {},
   "source": [
    "If you don’t have it installed already, it will prompt you to install it.\n",
    "\n",
    "You can also install it via a binary installer. A macOS Git installer is maintained and available for download at the [Git website](https://git-scm.com/download/mac)"
   ]
  }
 ],
 "metadata": {
  "kernelspec": {
   "display_name": "C++11",
   "language": "C++11",
   "name": "xcpp11"
  },
  "language_info": {
   "codemirror_mode": "text/x-c++src",
   "file_extension": ".cpp",
   "mimetype": "text/x-c++src",
   "name": "c++",
   "version": "-std=c++11"
  }
 },
 "nbformat": 4,
 "nbformat_minor": 4
}
