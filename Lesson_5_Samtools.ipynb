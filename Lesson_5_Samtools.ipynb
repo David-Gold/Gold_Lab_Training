{
 "cells": [
  {
   "cell_type": "markdown",
   "metadata": {},
   "source": [
    "# Lesson 5: Extracting Genes"
   ]
  },
  {
   "cell_type": "markdown",
   "metadata": {},
   "source": [
    "© 2019 David Gold. Except where the source is noted, this work is licensed under a [Creative Commons Attribution License CC-BY 4.0](https://creativecommons.org/licenses/by/4.0/)."
   ]
  },
  {
   "cell_type": "markdown",
   "metadata": {},
   "source": [
    "> Are you taking the class with Dr. Gold?\n",
    "If so, check for any changes in the course material on GitHub:\n"
   ]
  },
  {
   "cell_type": "markdown",
   "metadata": {},
   "source": [
    "## Where we left off with Lesson 4"
   ]
  },
  {
   "cell_type": "code",
   "execution_count": null,
   "metadata": {},
   "outputs": [],
   "source": [
    "cd ~/git/Gold_Lab_Training/Additional_Materials\n",
    "head Results.txt"
   ]
  },
  {
   "cell_type": "markdown",
   "metadata": {},
   "source": [
    "Terminal should return the following:\n",
    "\n",
    "    qseqid\tsseqid\tpident\tlength\tmismatch\tgapopen\tqstart\tqend\tsstart\tsend\tevalue\tbitscore\n",
    "    Ectocarpus_siliculosus_CBN76684.1_Sterol_methyltransferase\tsp|P25087|ERG6_YEAST_Sterol_24-C-methyltransferase\t43.296\t358\t182\t3\t75\t413\t13\t368\t2.78e-100\t301\n",
    "\n",
    "Here are the results in a table view for easier interpretation:"
   ]
  },
  {
   "cell_type": "markdown",
   "metadata": {},
   "source": [
    "|qseqid|sseqid|pident|length|mismatch|gapopen|qstart|qend|sstart|send|evalue|bitscore|\n",
    "|:---|:---|:---|:---|:---|:---|:---|:---|:---|:---|:---|:---|\n",
    "|Ectocarpus_siliculosus_CBN76684.1_Sterol_methyltransferase|sp\\|P25087\\|ERG6_YEAST_Sterol_24-C-methyltransferase|43.296|358|182|3|75|413|13|368|2.78e-100|301"
   ]
  },
  {
   "cell_type": "markdown",
   "metadata": {},
   "source": [
    "This is what the header IDs mean:\n",
    "\n",
    "|Column header|Meaning|\n",
    "|:--:|:--:|\n",
    "|qseqid |query (e.g., gene) sequence id|\n",
    "|sseqid|subject (e.g., reference genome) sequence id|\n",
    "|pident|percentage of identical matches|\n",
    "|length|alignment length|\n",
    "|mismatch|number of mismatches|\n",
    "|gapopen|number of gap openings|\n",
    "|qstart|start of alignment in query|\n",
    "|qend|end of alignment in query|\n",
    "|sstart|start of alignment in subject|\n",
    "|send|end of alignment in subject|\n",
    "|evalue|expect value|\n",
    "|bitscore|bit score|"
   ]
  },
  {
   "cell_type": "markdown",
   "metadata": {},
   "source": [
    "As a reminder, one of our query seqeunces (Ectocarpus_siliculosus_CBN76684.1_Sterol_methyltransferase) had a single hit in the yeast database (sp|P25087|ERG6_YEAST_Sterol_24-C-methyltransferase). If we want to see what the sequence of this BLAST hit looks like, we could open the relevent fasta file up in BBEdit and search for it, but that won't work with very large fasta files. Instead we will use a program called [__Samtools__](http://www.htslib.org/). Samtools is primarily use for working with SAM and BAM files, a common text format for high-throughput sequencing data. But it has some useful tools for working with fasta files more broadly."
   ]
  },
  {
   "cell_type": "markdown",
   "metadata": {},
   "source": [
    "## Installing Samtools\n",
    "\n",
    "We can install Samtools with Homebrew:"
   ]
  },
  {
   "cell_type": "code",
   "execution_count": null,
   "metadata": {},
   "outputs": [],
   "source": [
    "brew install samtools"
   ]
  },
  {
   "cell_type": "markdown",
   "metadata": {},
   "source": [
    "## Retrieving genetic data with Samtools"
   ]
  },
  {
   "cell_type": "markdown",
   "metadata": {},
   "source": [
    "Before we can extract data from a fasta file using Samtools, we need to __index__ the file first. We can do that with Samtools' `faidx` command:"
   ]
  },
  {
   "cell_type": "code",
   "execution_count": null,
   "metadata": {},
   "outputs": [],
   "source": [
    "samtools faidx Lesson_4_Yeast_Proteome.fasta"
   ]
  },
  {
   "cell_type": "markdown",
   "metadata": {},
   "source": [
    "There will now be an index file (Lesson_4_Yeast_Proteome.fasta.fai) added to your folder. This allows Samtools to easily navigate fasta files of any size.\n",
    "\n",
    "To look at the gene we found with BLAST, we also use the `faidx` command. But this time we add the name of the seqeunce we're interested in\n",
    "(make sure to wrap the name in quotes):"
   ]
  },
  {
   "cell_type": "code",
   "execution_count": null,
   "metadata": {},
   "outputs": [],
   "source": [
    "samtools faidx Lesson_4_Yeast_Proteome.fasta \"sp|P25087|ERG6_YEAST_Sterol_24-C-methyltransferase\""
   ]
  },
  {
   "cell_type": "markdown",
   "metadata": {},
   "source": [
    "Terminal will return the relevent amino acid sequence:\n",
    "\n",
    "    >sp|P25087|ERG6_YEAST_Sterol_24-C-methyltransferase\n",
    "    MSETELRKRQAQFTRELHGDDIGKKTGLSALMSKNNSAQKEAVQKYLRNWDGRTDKDAEE\n",
    "    RRLEDYNEATHSYYNVVTDFYEYGWGSSFHFSRFYKGESFAASIARHEHYLAYKAGIQRG\n",
    "    DLVLDVGCGVGGPAREIARFTGCNVIGLNNNDYQIAKAKYYAKKYNLSDQMDFVKGDFMK\n",
    "    MDFEENTFDKVYAIEATCHAPKLEGVYSEIYKVLKPGGTFAVYEWVMTDKYDENNPEHRK\n",
    "    IAYEIELGDGIPKMFHVDVARKALKNCGFEVLVSEDLADNDDEIPWYYPLTGEWKYVQNL\n",
    "    ANLATFFRTSYLGRQFTTAMVTVMEKLGLAPEGSKEVTAALENAAVGLVAGGKSKLFTPM\n",
    "    MLFVARKPENAETPSQTSQEATQ\n",
    "    \n",
    "If you want to save this sequence you can redirect it to an output file (we'll call it ERG6.fasta) with the `>` command:"
   ]
  },
  {
   "cell_type": "code",
   "execution_count": null,
   "metadata": {},
   "outputs": [],
   "source": [
    "samtools faidx Lesson_4_Yeast_Proteome.fasta \"sp|P25087|ERG6_YEAST_Sterol_24-C-methyltransferase\" > ERG6.fasta"
   ]
  },
  {
   "cell_type": "markdown",
   "metadata": {},
   "source": [
    "Perhaps you only want to see the part of the yeast gene that matched with the query. Using the `sstart` (start of alignment in subject) and `send` (end of alignment in subject) columns, you'll see that the match encompases amino acids \\#13-368. \n",
    "\n",
    "We can extract these particular sequences using the previous `samtools faidx` command, but adding a colon (`:`) followed by the region of interest: "
   ]
  },
  {
   "cell_type": "code",
   "execution_count": null,
   "metadata": {},
   "outputs": [],
   "source": [
    "samtools faidx Lesson_4_Yeast_Proteome.fasta \"sp|P25087|ERG6_YEAST_Sterol_24-C-methyltransferase\":13-368"
   ]
  },
  {
   "cell_type": "markdown",
   "metadata": {},
   "source": [
    "Terminal will return the follwing:\n",
    "\n",
    "    >sp|P25087|ERG6_YEAST_Sterol_24-C-methyltransferase:13-368\n",
    "    FTRELHGDDIGKKTGLSALMSKNNSAQKEAVQKYLRNWDGRTDKDAEERRLEDYNEATHS\n",
    "    YYNVVTDFYEYGWGSSFHFSRFYKGESFAASIARHEHYLAYKAGIQRGDLVLDVGCGVGG\n",
    "    PAREIARFTGCNVIGLNNNDYQIAKAKYYAKKYNLSDQMDFVKGDFMKMDFEENTFDKVY\n",
    "    AIEATCHAPKLEGVYSEIYKVLKPGGTFAVYEWVMTDKYDENNPEHRKIAYEIELGDGIP\n",
    "    KMFHVDVARKALKNCGFEVLVSEDLADNDDEIPWYYPLTGEWKYVQNLANLATFFRTSYL\n",
    "    GRQFTTAMVTVMEKLGLAPEGSKEVTAALENAAVGLVAGGKSKLFTPMMLFVARKP\n",
    "\n",
    "Compare it to the previous result. Notice how the first 12 amino acids have been trimmed from the sequence."
   ]
  },
  {
   "cell_type": "markdown",
   "metadata": {},
   "source": [
    "## Extracting conserved regions from multiple genes with Samtools"
   ]
  },
  {
   "cell_type": "markdown",
   "metadata": {},
   "source": [
    "In the \"Additional_Materials\" folder you should find a file called \"Lesson_5_Query_Domain.fasta\". It contains the following oxidoreductase (an enzyme that catalyzes the transfer of electrons from one molecule to another) from the bacteria *Escherichia coli*:\n",
    "\n",
    "    >Ecoli_oxidoreductase\n",
    "    MKKIPLGTTDITLSRMGLGTWAIGGGPAWNGDLDRQICIDTILEAHRCGINLIDTAPGYN\n",
    "    FGNSEVIVGQALKKLPREQVVVETKCGIVWERKGSLFNKVGDRQLYKNLSPESIREEVEA\n",
    "    SLQRLGFDYIDIYMTHWQSVPPFYTPIAETVAVLNELKAEGKIRAIGAANVDADHIREYL\n",
    "    QYGELDIIQAKYSILDRAMENELLPLCRDNGIVVQVYSPLEQGLLTGTITRDYVPGGARA\n",
    "    NKVWFQRENMLKVIDMLEQWQPLCARYQCTIPTLALAWILKQSDLISILSGATAPEQVRE\n",
    "    NVAALNINLSDADATLMREMAEVLGR\n",
    "\n",
    "Let's use BLAST to look for homologous genes in our yeast database:"
   ]
  },
  {
   "cell_type": "code",
   "execution_count": null,
   "metadata": {},
   "outputs": [],
   "source": [
    "cd ~/git/Gold_Lab_Training/Additional_Materials\n",
    "blastp -query Lesson_5_Query_Domain.fasta -db Yeast -outfmt 6 -evalue 10e-5 -out Lesson_5_BLAST_Results.txt"
   ]
  },
  {
   "cell_type": "markdown",
   "metadata": {},
   "source": [
    "And once BLAST is finished, add the header information:"
   ]
  },
  {
   "cell_type": "code",
   "execution_count": null,
   "metadata": {},
   "outputs": [],
   "source": [
    "echo -e \"qseqid\\tsseqid\\tpident\\tlength\\tmismatch\\tgapopen\\tqstart\\tqend\\tsstart\\tsend\\tevalue\\tbitscore\"|cat \\\n",
    "- Lesson_5_BLAST_Results.txt > /tmp/out && mv /tmp/out Lesson_5_BLAST_Results.txt"
   ]
  }
 ],
 "metadata": {
  "kernelspec": {
   "display_name": "Bash",
   "language": "bash",
   "name": "bash"
  },
  "language_info": {
   "codemirror_mode": "shell",
   "file_extension": ".sh",
   "mimetype": "text/x-sh",
   "name": "bash"
  }
 },
 "nbformat": 4,
 "nbformat_minor": 2
}
