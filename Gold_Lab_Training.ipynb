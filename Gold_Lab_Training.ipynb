{
 "cells": [
  {
   "cell_type": "markdown",
   "metadata": {},
   "source": [
    "# Lesson 0: Configuring your computer"
   ]
  },
  {
   "cell_type": "markdown",
   "metadata": {},
   "source": [
    "# macOS users: Install XCode"
   ]
  },
  {
   "cell_type": "markdown",
   "metadata": {},
   "source": [
    "__First thing first, make sure your operating system is up to date!__\n",
    "\n",
    "If you are using macOS, you should install [XCode](https://developer.apple.com/xcode/). It's a large piece of software, taking up about 5GB on your hard drive, so make sure you have enough space. You can install it through the App Store."
   ]
  },
  {
   "cell_type": "markdown",
   "metadata": {},
   "source": [
    "# Finding your Terminal application"
   ]
  },
  {
   "cell_type": "markdown",
   "metadata": {},
   "source": [
    "The Terminal app is in the \"Utilities\" folder in Applications. To open it, use [Finder](https://support.apple.com/en-us/HT201732) to reach your Applications folder, then open Utilities and double-click on Terminal, or press Command - spacebar to launch Spotlight and type \"Terminal,\" then double-click the search result.\n",
    "\n",
    "You will want easy access to Terminal in the future. Right-click the terminal icon on your dock and select \"Options > Keep in Dock\""
   ]
  },
  {
   "cell_type": "markdown",
   "metadata": {},
   "source": [
    "# Downloading and installing Homebrew"
   ]
  },
  {
   "cell_type": "markdown",
   "metadata": {},
   "source": [
    "[Homebrew](https://brew.sh) is a package manager. Install it by pasting the following in a macOS Terminal prompt."
   ]
  },
  {
   "cell_type": "code",
   "execution_count": null,
   "metadata": {},
   "outputs": [],
   "source": [
    "/usr/bin/ruby -e \"$(curl -fsSL https://raw.githubusercontent.com/Homebrew/install/master/install)\""
   ]
  },
  {
   "cell_type": "markdown",
   "metadata": {},
   "source": [
    "With Homebrew you can search for and install packages developed by other programmers. Homebrew is accessed in terminal using the following syntax: \"__brew__ __[verb]__ __[options]__\"\n",
    "\n",
    "Let's try to __SEARCH__ for the program wget:"
   ]
  },
  {
   "cell_type": "code",
   "execution_count": null,
   "metadata": {},
   "outputs": [],
   "source": [
    "brew search wget"
   ]
  },
  {
   "cell_type": "markdown",
   "metadata": {},
   "source": [
    "You should get something like the following:"
   ]
  },
  {
   "cell_type": "code",
   "execution_count": null,
   "metadata": {},
   "outputs": [],
   "source": [
    "==> Formulae\n",
    "wget                                   wgetpaste"
   ]
  },
  {
   "cell_type": "markdown",
   "metadata": {},
   "source": [
    "Homebrew found two possilbe programs, \"wget\" and \"wgetpaste\". We want to __INSTALL__ wget, and we can do that with the following command in terminal."
   ]
  },
  {
   "cell_type": "code",
   "execution_count": null,
   "metadata": {},
   "outputs": [],
   "source": [
    "brew install wget"
   ]
  },
  {
   "cell_type": "markdown",
   "metadata": {},
   "source": [
    "If you want to find out where wget exists on your computer, use the __INFO__ command: "
   ]
  },
  {
   "cell_type": "code",
   "execution_count": null,
   "metadata": {},
   "outputs": [],
   "source": [
    "brew info wget "
   ]
  },
  {
   "cell_type": "markdown",
   "metadata": {},
   "source": [
    "You will get the following as part of the output:"
   ]
  },
  {
   "cell_type": "code",
   "execution_count": null,
   "metadata": {},
   "outputs": [],
   "source": [
    "wget: stable 1.20.3 (bottled), HEAD\n",
    "Internet file retriever\n",
    "https://www.gnu.org/software/wget/\n",
    "/usr/local/Cellar/wget/1.19.5 (50 files, 3.7MB) * # <-- Here's the path to your program!\n",
    "  Poured from bottle on 2018-09-13 at 20:07:35\n",
    "From: https://github.com/Homebrew/homebrew-core/blob/master/Formula/wget.rb"
   ]
  },
  {
   "cell_type": "markdown",
   "metadata": {},
   "source": [
    "### Here are a couple other good commands for Homebrew"
   ]
  },
  {
   "cell_type": "markdown",
   "metadata": {},
   "source": [
    "List all of the programs you have installed with Homebrew:"
   ]
  },
  {
   "cell_type": "code",
   "execution_count": null,
   "metadata": {},
   "outputs": [],
   "source": [
    "brew list"
   ]
  },
  {
   "cell_type": "markdown",
   "metadata": {},
   "source": [
    "You can even look for things you have installed using grep (Global regular expression print; we'll talk more about grep later):"
   ]
  },
  {
   "cell_type": "code",
   "execution_count": null,
   "metadata": {},
   "outputs": [],
   "source": [
    "brew list | grep [Program name]"
   ]
  },
  {
   "cell_type": "markdown",
   "metadata": {},
   "source": [
    "Update all of the programs in Homebrew:"
   ]
  },
  {
   "cell_type": "code",
   "execution_count": null,
   "metadata": {},
   "outputs": [],
   "source": [
    "brew update"
   ]
  },
  {
   "cell_type": "markdown",
   "metadata": {},
   "source": [
    "# Downloading and installing Python3"
   ]
  },
  {
   "cell_type": "markdown",
   "metadata": {},
   "source": [
    "Mac OS X comes with Python 2.7 out of the box. The version of Python that ships with OS X is great for learning, but it’s not good for development. Python 2 is being replaced with Python 3, and will be no longer be updated by the developers in 2020. So let's make sure you're working with the latest version!\n",
    "\n",
    "First, install Python 3 with Homebrew:"
   ]
  },
  {
   "cell_type": "code",
   "execution_count": null,
   "metadata": {},
   "outputs": [],
   "source": [
    "brew install python"
   ]
  },
  {
   "cell_type": "markdown",
   "metadata": {},
   "source": [
    "The old version of Python still exists on your computer. It might be important for certain programs. If you ever get an error message while working with Python, one of the first things to check is what version are you working with, and what version does the program require.\n",
    "\n",
    "Let's set Python 3 as the default:"
   ]
  },
  {
   "cell_type": "code",
   "execution_count": null,
   "metadata": {},
   "outputs": [],
   "source": [
    "alias python=/usr/local/bin/python3"
   ]
  },
  {
   "cell_type": "markdown",
   "metadata": {},
   "source": [
    "Now double-check which version of python is your default:"
   ]
  },
  {
   "cell_type": "code",
   "execution_count": null,
   "metadata": {},
   "outputs": [],
   "source": [
    "python --version"
   ]
  },
  {
   "cell_type": "markdown",
   "metadata": {},
   "source": [
    "You should get a verion of Python 3"
   ]
  },
  {
   "cell_type": "code",
   "execution_count": null,
   "metadata": {},
   "outputs": [],
   "source": [
    "Python 3.7.4"
   ]
  },
  {
   "cell_type": "markdown",
   "metadata": {},
   "source": [
    "Python uses a program called 'Pip' to install packages. Make sure you are using the right version of Pip as well:"
   ]
  },
  {
   "cell_type": "code",
   "execution_count": null,
   "metadata": {},
   "outputs": [],
   "source": [
    "Pip --version\n",
    "\n",
    "pip 19.3 from /usr/local/lib/python3.7/site-packages/pip (python 3.7)"
   ]
  },
  {
   "cell_type": "markdown",
   "metadata": {},
   "source": [
    "You can now access Python 3 by calling the program:"
   ]
  },
  {
   "cell_type": "code",
   "execution_count": null,
   "metadata": {},
   "outputs": [],
   "source": [
    "python"
   ]
  },
  {
   "cell_type": "markdown",
   "metadata": {},
   "source": [
    "You will be able to tell that you are in Python because the '$' starting every line in Terminal (which indicates you're in the BASH environment) is now replaced with '>>>' (which indicates you're in the PYTHON environemnt).\n",
    "\n",
    "We will discuss working in Python later in the course. For now you can quit Python using the following command:"
   ]
  },
  {
   "cell_type": "code",
   "execution_count": null,
   "metadata": {},
   "outputs": [],
   "source": [
    "quit()"
   ]
  },
  {
   "cell_type": "markdown",
   "metadata": {},
   "source": [
    "# Downloading a text editor"
   ]
  },
  {
   "cell_type": "markdown",
   "metadata": {},
   "source": [
    "A text editor is a type of computer program that edits __plain text__. This is distinct from a word processor (Such as Microsoft Word) which edits rich text. Rich text may contain metadata, character formatting data (e.g. typeface, size, weight and style), paragraph formatting data (e.g. indentation, alignment, letter and word distribution, and space between lines or other paragraphs), and page specification data (e.g. size, margin and reading direction).\n",
    "\n",
    "You will need a text editor to develop code.\n",
    "\n",
    "Two common text editors are [BBEdit](http://www.barebones.com/products/bbedit/) and [Sublime Text](https://www.sublimetext.com)."
   ]
  },
  {
   "cell_type": "markdown",
   "metadata": {},
   "source": [
    "# Installing Git"
   ]
  },
  {
   "cell_type": "markdown",
   "metadata": {},
   "source": [
    "There are several ways to install Git on a Mac. It should have been included when you installed the Xcode Command Line Tools. To check, paste the following prompt into Terminal:"
   ]
  },
  {
   "cell_type": "code",
   "execution_count": null,
   "metadata": {},
   "outputs": [],
   "source": [
    "git --version"
   ]
  },
  {
   "cell_type": "markdown",
   "metadata": {},
   "source": [
    "If you don’t have it installed already, this command will prompt you to install it.\n",
    "\n",
    "You can also install it via a binary installer. A macOS Git installer is maintained and available for download at the [Git website](https://git-scm.com/download/mac)"
   ]
  }
 ],
 "metadata": {
  "kernelspec": {
   "display_name": "Python 3",
   "language": "python",
   "name": "python3"
  },
  "language_info": {
   "codemirror_mode": {
    "name": "ipython",
    "version": 3
   },
   "file_extension": ".py",
   "mimetype": "text/x-python",
   "name": "python",
   "nbconvert_exporter": "python",
   "pygments_lexer": "ipython3",
   "version": "3.7.4"
  }
 },
 "nbformat": 4,
 "nbformat_minor": 4
}
